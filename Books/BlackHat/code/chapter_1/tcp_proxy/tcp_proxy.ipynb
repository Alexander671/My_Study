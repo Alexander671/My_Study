{
 "cells": [
  {
   "cell_type": "markdown",
   "metadata": {},
   "source": [
    "прокси сервер будет состоять из 4 частей. \n",
    "1. Выводить в консоль взаимодействие локальной и удаленной системой (hexdump).\n",
    "2. Получать данные от локальной или удаленной системы с помощью входящего сокета (receive_from).\n",
    "3. Определять направление трафика (proxy_handler).\n",
    "4. Подготовить слушающий сокет и передать функции (proxy_handler)."
   ]
  },
  {
   "cell_type": "markdown",
   "metadata": {},
   "source": [
    "1. Мы создаем строку HEXFILTER с печатными символами ASCII, если символ непечатный, вместо него выводится точка (.). Определеяем по длине строки. Создаем функцию. Далее декодируем строку если необходимо.\n",
    "2. Дальше берем часть строки, которую нужно вывести, и присваиваем ее переменной word.\n",
    "3. Используем встроенную функцию translate, чтобы подставить вместо каждого символа в необработанной строке его строковое представление (printable) \n",
    "4. Вместе с тем подставляем шестнадцатеричное представление целочисленного значения для каждого символа в исходной строке (hexa). В конце создаем новый массив \n",
    "result для хранения строк, он будет содержать шестнадцатеричное значение индекса первого байта в слове (word), шестнадцатеричное значение слова и его печатное представление"
   ]
  },
  {
   "cell_type": "code",
   "execution_count": 4,
   "metadata": {},
   "outputs": [],
   "source": [
    "HEX_FILTER = ''.join([(len(repr(chr(i))) == 3) and chr(i) or '.' for i in range(256)])\n",
    "def hexdump(src, length=16, show=True):\n",
    "    if isinstance(src, bytes):\n",
    "        src = src.decode()\n",
    "    results = list()\n",
    "    for i in range(0, len(src), length):    \n",
    "        word = str(src[i:i+length])\n",
    "        printable = word.translate(HEX_FILTER)\n",
    "        hexa = ' '.join([f'{ord(c):02X}' for c in word])\n",
    "        hexwidth = length*3\n",
    "        results.append(f'{i:04x} {hexa:<{hexwidth}} {printable}')\n",
    "    if show:\n",
    "        for line in results:\n",
    "            print(line)\n",
    "    else:\n",
    "        return results"
   ]
  },
  {
   "cell_type": "code",
   "execution_count": null,
   "metadata": {},
   "outputs": [],
   "source": [
    "print(hexdump('python rocks\\n and proxies roll \\n and little bit paper'))\n",
    "# 0000 70 79 74 68 6F 6E 20 72 6F 63 6B 73 0A 20 61 6E 64 20 70 61 70 65 09 09 09 09 09 09 09 09 72 python rocks. and pape........r"
   ]
  }
 ],
 "metadata": {
  "kernelspec": {
   "display_name": "Python 3.10.6 64-bit",
   "language": "python",
   "name": "python3"
  },
  "language_info": {
   "codemirror_mode": {
    "name": "ipython",
    "version": 3
   },
   "file_extension": ".py",
   "mimetype": "text/x-python",
   "name": "python",
   "nbconvert_exporter": "python",
   "pygments_lexer": "ipython3",
   "version": "3.10.6"
  },
  "orig_nbformat": 4,
  "vscode": {
   "interpreter": {
    "hash": "916dbcbb3f70747c44a77c7bcd40155683ae19c65e1c03b4aa3499c5328201f1"
   }
  }
 },
 "nbformat": 4,
 "nbformat_minor": 2
}
